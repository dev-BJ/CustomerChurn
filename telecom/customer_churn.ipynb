{
 "cells": [
  {
   "cell_type": "code",
   "execution_count": 1,
   "metadata": {},
   "outputs": [],
   "source": [
    "from pandas import *\n",
    "from sklearn.metrics import accuracy_score\n",
    "from sklearn.calibration import LabelEncoder\n",
    "from sklearn.ensemble import GradientBoostingClassifier, RandomForestClassifier, VotingClassifier\n",
    "from sklearn.feature_selection import RFECV\n",
    "from sklearn.linear_model import LogisticRegression\n",
    "from sklearn.model_selection import train_test_split\n",
    "from sklearn.neighbors import KNeighborsClassifier\n",
    "from sklearn.svm import SVC\n",
    "from datetime import datetime\n",
    "from time import time\n",
    "import matplotlib.pyplot as plt"
   ]
  },
  {
   "cell_type": "code",
   "execution_count": null,
   "metadata": {},
   "outputs": [],
   "source": [
    "print(f'Start @ {datetime.now()}')"
   ]
  },
  {
   "cell_type": "code",
   "execution_count": null,
   "metadata": {},
   "outputs": [],
   "source": [
    "data=read_csv('./telecom_churn.csv')\n",
    "results = {}\n",
    "data.shape\n",
    "# data.shape\n",
    "# data.head()\n",
    "# data.dtypes\n",
    "# data.isna().sum()"
   ]
  },
  {
   "cell_type": "code",
   "execution_count": 32,
   "metadata": {},
   "outputs": [],
   "source": [
    "data=data.drop(['Unnamed: 0'], axis=1)\n",
    "# data.dtypes\n",
    "# data.columns"
   ]
  },
  {
   "cell_type": "markdown",
   "metadata": {},
   "source": [
    "Encode 'X' data for feature selection"
   ]
  },
  {
   "cell_type": "code",
   "execution_count": 34,
   "metadata": {},
   "outputs": [],
   "source": [
    "label_encoder=LabelEncoder()\n",
    "for col in data.columns:\n",
    "    # print(col)\n",
    "    data[col]=label_encoder.fit_transform(data[col])\n",
    "# X.head()\n",
    "# X.dtypes\n",
    "# data.dtypes"
   ]
  },
  {
   "cell_type": "code",
   "execution_count": 35,
   "metadata": {},
   "outputs": [],
   "source": [
    "X=data.drop(['churn'], axis=1) # features\n",
    "y=data['churn'] # target\n",
    "# y[0]"
   ]
  },
  {
   "cell_type": "code",
   "execution_count": 37,
   "metadata": {},
   "outputs": [],
   "source": [
    "X_train, X_test, y_train, y_test=train_test_split(X, y, test_size=0.2, random_state=0)"
   ]
  },
  {
   "cell_type": "markdown",
   "metadata": {},
   "source": [
    "Feature Selection"
   ]
  },
  {
   "cell_type": "code",
   "execution_count": null,
   "metadata": {},
   "outputs": [],
   "source": [
    "rf=RandomForestClassifier(random_state=0)\n",
    "rf.fit(X_train, y_train)"
   ]
  },
  {
   "cell_type": "code",
   "execution_count": null,
   "metadata": {},
   "outputs": [],
   "source": [
    "# rf.feature_importances_"
   ]
  },
  {
   "cell_type": "code",
   "execution_count": null,
   "metadata": {},
   "outputs": [],
   "source": [
    "rfe=RFECV(estimator=rf, cv=5, scoring='accuracy')\n",
    "rfe.fit(X_train, y_train)"
   ]
  },
  {
   "cell_type": "code",
   "execution_count": null,
   "metadata": {},
   "outputs": [],
   "source": [
    "rfe.get_support()"
   ]
  },
  {
   "cell_type": "code",
   "execution_count": 45,
   "metadata": {},
   "outputs": [
    {
     "data": {
      "text/plain": [
       "[('account_length', np.True_),\n",
       " ('area_code', np.False_),\n",
       " ('international_plan', np.True_),\n",
       " ('voice_mail_plan', np.False_),\n",
       " ('number_vmail_messages', np.True_),\n",
       " ('total_day_minutes', np.True_),\n",
       " ('total_day_calls', np.True_),\n",
       " ('total_day_charge', np.True_),\n",
       " ('total_eve_minutes', np.True_),\n",
       " ('total_eve_calls', np.True_),\n",
       " ('total_eve_charge', np.True_),\n",
       " ('total_night_minutes', np.True_),\n",
       " ('total_night_calls', np.True_),\n",
       " ('total_night_charge', np.True_),\n",
       " ('total_intl_minutes', np.True_),\n",
       " ('total_intl_calls', np.True_),\n",
       " ('total_intl_charge', np.True_),\n",
       " ('customer_service_calls', np.True_)]"
      ]
     },
     "execution_count": 45,
     "metadata": {},
     "output_type": "execute_result"
    }
   ],
   "source": [
    "list(zip(X_train.columns, rfe.get_support()))"
   ]
  },
  {
   "cell_type": "code",
   "execution_count": null,
   "metadata": {},
   "outputs": [],
   "source": [
    "feature_selected=[col_name for col_name, col_vec in list(zip(X_train.columns, rfe.get_support())) if(col_vec == True)]\n",
    "feature_selected"
   ]
  },
  {
   "cell_type": "code",
   "execution_count": null,
   "metadata": {},
   "outputs": [],
   "source": [
    "X_train[feature_selected]"
   ]
  },
  {
   "cell_type": "markdown",
   "metadata": {},
   "source": [
    "Model Classification"
   ]
  },
  {
   "cell_type": "code",
   "execution_count": 50,
   "metadata": {},
   "outputs": [],
   "source": [
    "classifiers = {\n",
    "    'Logistic Regression': LogisticRegression(),\n",
    "    'SVM': SVC(),\n",
    "    'Random Forest': RandomForestClassifier(),\n",
    "    'Gradient Boosting': GradientBoostingClassifier(),\n",
    "    'K-Nearest Neighbors': KNeighborsClassifier()\n",
    "}"
   ]
  },
  {
   "cell_type": "code",
   "execution_count": 54,
   "metadata": {},
   "outputs": [
    {
     "name": "stdout",
     "output_type": "stream",
     "text": [
      "CLF start @ 2024-10-18 18:12:19.511953\n"
     ]
    },
    {
     "name": "stderr",
     "output_type": "stream",
     "text": [
      "c:\\Users\\Phreaker\\AppData\\Local\\Programs\\Python\\Python312\\Lib\\site-packages\\sklearn\\linear_model\\_logistic.py:469: ConvergenceWarning: lbfgs failed to converge (status=1):\n",
      "STOP: TOTAL NO. of ITERATIONS REACHED LIMIT.\n",
      "\n",
      "Increase the number of iterations (max_iter) or scale the data as shown in:\n",
      "    https://scikit-learn.org/stable/modules/preprocessing.html\n",
      "Please also refer to the documentation for alternative solver options:\n",
      "    https://scikit-learn.org/stable/modules/linear_model.html#logistic-regression\n",
      "  n_iter_i = _check_optimize_result(\n"
     ]
    },
    {
     "name": "stdout",
     "output_type": "stream",
     "text": [
      "CLF end @ 2024-10-18 18:12:26.016802\n"
     ]
    }
   ],
   "source": [
    "clf_start=time()\n",
    "print(f'CLF start @ {datetime.now()}')\n",
    "# Train and evaluate the classifiers\n",
    "for name, clf in classifiers.items():\n",
    "    clf.fit(X_train[feature_selected], y_train)  # Train the model\n",
    "    y_pred = clf.predict(X_test[feature_selected])  # Make predictions on the test set\n",
    "    accuracy = accuracy_score(y_test, y_pred)  # Calculate accuracy\n",
    "    results[name] = accuracy  # Store the results\n",
    "clf_end=time()\n",
    "print(f'CLF end @ {datetime.now()}')"
   ]
  },
  {
   "cell_type": "code",
   "execution_count": 55,
   "metadata": {},
   "outputs": [
    {
     "name": "stdout",
     "output_type": "stream",
     "text": [
      "Classifier Performance:\n",
      "Logistic Regression: 0.8681\n",
      "SVM: 0.8771\n",
      "Random Forest: 0.9580\n",
      "Gradient Boosting: 0.9580\n",
      "K-Nearest Neighbors: 0.8681\n",
      "Time used: 6.5048487186431885s\n"
     ]
    }
   ],
   "source": [
    "# Print the accuracy results\n",
    "print(\"Classifier Performance:\")\n",
    "for clf_name, accuracy in results.items():\n",
    "    print(f\"{clf_name}: {accuracy:.4f}\")\n",
    "print(f\"Time used: {clf_end-clf_start}s\")"
   ]
  },
  {
   "cell_type": "code",
   "execution_count": 59,
   "metadata": {},
   "outputs": [
    {
     "data": {
      "text/plain": [
       "dict_keys(['Logistic Regression', 'SVM', 'Random Forest', 'Gradient Boosting', 'K-Nearest Neighbors'])"
      ]
     },
     "execution_count": 59,
     "metadata": {},
     "output_type": "execute_result"
    }
   ],
   "source": [
    "results.keys()"
   ]
  },
  {
   "cell_type": "code",
   "execution_count": 62,
   "metadata": {},
   "outputs": [
    {
     "data": {
      "text/plain": [
       "['Logistic Regression',\n",
       " 'SVM',\n",
       " 'Random Forest',\n",
       " 'Gradient Boosting',\n",
       " 'K-Nearest Neighbors']"
      ]
     },
     "execution_count": 62,
     "metadata": {},
     "output_type": "execute_result"
    }
   ],
   "source": [
    "# variables to plot graph\n",
    "y_plt=[acc for acc in results.values()]\n",
    "x_plt=[name for name in results.keys()]\n",
    "\n",
    "x_plt"
   ]
  },
  {
   "cell_type": "markdown",
   "metadata": {},
   "source": [
    "Actual prediction"
   ]
  },
  {
   "cell_type": "code",
   "execution_count": 64,
   "metadata": {},
   "outputs": [],
   "source": [
    "# Initialize the base classifiers\n",
    "log_clf = LogisticRegression()\n",
    "svm_clf = SVC(probability=True)\n",
    "rf_clf = RandomForestClassifier()\n",
    "gb_clf = GradientBoostingClassifier()\n",
    "knn_clf = KNeighborsClassifier()"
   ]
  },
  {
   "cell_type": "code",
   "execution_count": 66,
   "metadata": {},
   "outputs": [
    {
     "name": "stdout",
     "output_type": "stream",
     "text": [
      "Voting start @ 2024-10-18 18:19:55.802246\n"
     ]
    },
    {
     "name": "stderr",
     "output_type": "stream",
     "text": [
      "c:\\Users\\Phreaker\\AppData\\Local\\Programs\\Python\\Python312\\Lib\\site-packages\\sklearn\\linear_model\\_logistic.py:469: ConvergenceWarning: lbfgs failed to converge (status=1):\n",
      "STOP: TOTAL NO. of ITERATIONS REACHED LIMIT.\n",
      "\n",
      "Increase the number of iterations (max_iter) or scale the data as shown in:\n",
      "    https://scikit-learn.org/stable/modules/preprocessing.html\n",
      "Please also refer to the documentation for alternative solver options:\n",
      "    https://scikit-learn.org/stable/modules/linear_model.html#logistic-regression\n",
      "  n_iter_i = _check_optimize_result(\n"
     ]
    },
    {
     "name": "stdout",
     "output_type": "stream",
     "text": [
      "Voting end @ 2024-10-18 18:20:02.991832\n"
     ]
    }
   ],
   "source": [
    "voting_clf = VotingClassifier(\n",
    "    estimators=[\n",
    "        ('log_clf', log_clf),\n",
    "        ('svm_clf', svm_clf),\n",
    "        ('rf_clf', rf_clf),\n",
    "        ('gb_clf', gb_clf),\n",
    "        ('knn_clf', knn_clf)\n",
    "    ],\n",
    "    voting='soft'\n",
    ")\n",
    "\n",
    "v_clf_start=time()\n",
    "print(f'Voting start @ {datetime.now()}')\n",
    "# Train VotingClassifier\n",
    "voting_clf.fit(X_train[feature_selected], y_train)\n",
    "\n",
    "# Make predictions\n",
    "y_pred_voting = voting_clf.predict(X_test[feature_selected])\n",
    "\n",
    "print(f'Voting end @ {datetime.now()}')"
   ]
  },
  {
   "cell_type": "code",
   "execution_count": null,
   "metadata": {},
   "outputs": [],
   "source": [
    "y_pred_voting"
   ]
  },
  {
   "cell_type": "code",
   "execution_count": 68,
   "metadata": {},
   "outputs": [
    {
     "name": "stdout",
     "output_type": "stream",
     "text": [
      "Voting Classifier Accuracy: 0.8996\n",
      "Voting time: 106.76717972755432s\n",
      "End @ 2024-10-18 18:21:42.569426\n"
     ]
    }
   ],
   "source": [
    "voting_accuracy = accuracy_score(y_test, y_pred_voting)\n",
    "print(f\"Voting Classifier Accuracy: {voting_accuracy:.4f}\")\n",
    "v_clf_end=time()\n",
    "print(f\"Voting time: {v_clf_end-v_clf_start}s\")\n",
    "print(f'End @ {datetime.now()}')"
   ]
  },
  {
   "cell_type": "markdown",
   "metadata": {},
   "source": [
    "Graph for customer churn output"
   ]
  },
  {
   "cell_type": "code",
   "execution_count": 72,
   "metadata": {},
   "outputs": [
    {
     "data": {
      "text/plain": [
       "churn\n",
       "0    640\n",
       "1     27\n",
       "Name: count, dtype: int64"
      ]
     },
     "execution_count": 72,
     "metadata": {},
     "output_type": "execute_result"
    }
   ],
   "source": [
    "x_data=DataFrame({'churn':y_pred_voting})['churn'].value_counts().sort_index()\n",
    "y_name=['No(0)','Yes(1)']\n",
    "x_data"
   ]
  },
  {
   "cell_type": "code",
   "execution_count": null,
   "metadata": {},
   "outputs": [
    {
     "data": {
      "image/png": "[encoded data removed]",
      "text/plain": [
       "<Figure size 800x600 with 2 Axes>"
      ]
     },
     "metadata": {},
     "output_type": "display_data"
    }
   ],
   "source": [
    "plt.figure(figsize=(8,6))\n",
    "\n",
    "plt.subplot(211)\n",
    "plt.bar(x_plt,y_plt,color=['red','green'],width=0.5)\n",
    "plt.xlabel('Output')\n",
    "plt.ylabel('Models')\n",
    "plt.title('Classifiers')\n",
    "\n",
    "plt.subplot(212)\n",
    "plt.bar(y_name,x_data,color=['red','green','blue'],width=0.5)\n",
    "plt.xlabel('Churn output')\n",
    "plt.ylabel('Total Churn')\n",
    "plt.title('Voting')\n",
    "\n",
    "plt.tight_layout()\n",
    "\n",
    "plt.savefig('OutputImage/figure.png')\n",
    "plt.show()"
   ]
  }
 ],
 "metadata": {
  "kernelspec": {
   "display_name": "Python 3",
   "language": "python",
   "name": "python3"
  },
  "language_info": {
   "codemirror_mode": {
    "name": "ipython",
    "version": 3
   },
   "file_extension": ".py",
   "mimetype": "text/x-python",
   "name": "python",
   "nbconvert_exporter": "python",
   "pygments_lexer": "ipython3",
   "version": "3.12.6"
  }
 },
 "nbformat": 4,
 "nbformat_minor": 2
}
